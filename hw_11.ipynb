{
  "nbformat": 4,
  "nbformat_minor": 0,
  "metadata": {
    "colab": {
      "name": "hw_11",
      "provenance": [],
      "collapsed_sections": []
    },
    "kernelspec": {
      "name": "python3",
      "display_name": "Python 3"
    },
    "language_info": {
      "name": "python"
    }
  },
  "cells": [
    {
      "cell_type": "code",
      "source": [
        "!if [ -d dul_2021 ]; then rm -Rf dul_2021; fi\n",
        "!git clone https://github.com/GrigoryBartosh/dul_2021\n",
        "!pip install ./dul_2021"
      ],
      "metadata": {
        "colab": {
          "base_uri": "https://localhost:8080/"
        },
        "id": "4dRz5SIFKfZD",
        "outputId": "99a8c66e-fc6e-45b5-eaa3-22232baef301"
      },
      "execution_count": null,
      "outputs": [
        {
          "output_type": "stream",
          "name": "stdout",
          "text": [
            "Cloning into 'dul_2021'...\n",
            "remote: Enumerating objects: 414, done.\u001b[K\n",
            "remote: Counting objects: 100% (172/172), done.\u001b[K\n",
            "remote: Compressing objects: 100% (95/95), done.\u001b[K\n",
            "remote: Total 414 (delta 108), reused 77 (delta 77), pack-reused 242\u001b[K\n",
            "Receiving objects: 100% (414/414), 70.28 MiB | 23.43 MiB/s, done.\n",
            "Resolving deltas: 100% (197/197), done.\n",
            "Processing ./dul_2021\n",
            "\u001b[33m  DEPRECATION: A future pip version will change local packages to be built in-place without first copying to a temporary directory. We recommend you use --use-feature=in-tree-build to test your packages with this new behavior before it becomes the default.\n",
            "   pip 21.3 will remove support for this functionality. You can find discussion regarding this at https://github.com/pypa/pip/issues/7555.\u001b[0m\n",
            "Building wheels for collected packages: dul-2021\n",
            "  Building wheel for dul-2021 (setup.py) ... \u001b[?25l\u001b[?25hdone\n",
            "  Created wheel for dul-2021: filename=dul_2021-0.1.0-py3-none-any.whl size=28255 sha256=8ff3db1b25375ff407013c92dfe3d19bf6e3eb15042568f8538f2406f08513ed\n",
            "  Stored in directory: /tmp/pip-ephem-wheel-cache-f0o6ax8q/wheels/55/59/29/0fb1c635652157734f4d741f32fc11979149684e83e919de06\n",
            "Successfully built dul-2021\n",
            "Installing collected packages: dul-2021\n",
            "Successfully installed dul-2021-0.1.0\n"
          ]
        }
      ]
    },
    {
      "cell_type": "code",
      "source": [
        "from dul_2021.utils.hw11_utils import *"
      ],
      "metadata": {
        "id": "KjY-iIy5MSZb"
      },
      "execution_count": null,
      "outputs": []
    },
    {
      "cell_type": "code",
      "source": [
        "import copy\n",
        "from tqdm import tqdm\n",
        "\n",
        "import torch.nn as nn\n",
        "from torch.nn import functional as F\n",
        "import torch\n",
        "from torchvision.transforms.transforms import ToPILImage\n",
        "from torch.utils.data import Dataset, DataLoader\n",
        "from torch.optim import Adam\n",
        "\n",
        "from torchvision import transforms"
      ],
      "metadata": {
        "id": "tw6wFYS4gKdu"
      },
      "execution_count": null,
      "outputs": []
    },
    {
      "cell_type": "code",
      "source": [
        "device = torch.device(\"cuda\" if torch.cuda.is_available() else \"cpu\")"
      ],
      "metadata": {
        "id": "RLa2XKkegMzU"
      },
      "execution_count": null,
      "outputs": []
    },
    {
      "cell_type": "markdown",
      "source": [
        "# Question 1. BYOL\n",
        "\n",
        "Here we will implement [BYOL](https://arxiv.org/abs/2006.07733).\n",
        "\n",
        "* You can combine view, representation, and projection into one network. You can use same architechure as in practice. \n",
        "\n",
        "* Use BatchNorm\n",
        "\n",
        "* As predictor use few linear layers\n",
        "\n",
        "* Dataset comes untransformed, so you need to apply transformations during training by yourself. Use same augmentations as in SimCLR\n",
        "\n",
        "**Hyperparameters**\n",
        "\n",
        "* τ = 0.99 (target update coefficient)\n",
        "* lr = 1e-4\n",
        "* num_epochs = 20\n",
        "* latent dim = 128\n",
        "\n",
        "\n",
        "\n",
        "**You will provide the following deliverables**\n",
        "\n",
        "\n",
        "1. Over the course of training, record loss ber batch.\n",
        "2. A function that encodes a batch of images with your trained model. The function recieves a batch torch tensors on cpu and should return transformed 2d tensor (batch size x laten dim). It will be used to test representation on classification task."
      ],
      "metadata": {
        "id": "t7J5FgOHW6Z-"
      }
    },
    {
      "cell_type": "code",
      "source": [
        "class Net(nn.Module):\n",
        "    def __init__(self, input_dim=1, out_dim=128, hid_dim_full=128):\n",
        "        super(Net, self).__init__()\n",
        "\n",
        "        self.conv1 = nn.Conv2d(input_dim, 16, 5, padding=2)\n",
        "        self.conv2 = nn.Conv2d(16, 16, 3, padding=1, stride=2)\n",
        "        self.conv3 = nn.Conv2d(16, 32, 5, padding=2)\n",
        "        self.conv4 = nn.Conv2d(32, 32, 3, padding=1, stride=2)\n",
        "        self.conv5 = nn.Conv2d(32, 32, 1)\n",
        "        self.conv6 = nn.Conv2d(32, 4, 1)\n",
        "        self.bn1 = nn.BatchNorm2d(16)\n",
        "        self.bn2 = nn.BatchNorm2d(16)\n",
        "        self.bn3 = nn.BatchNorm2d(32)\n",
        "        self.bn4 = nn.BatchNorm2d(32)\n",
        "        self.bn5 = nn.BatchNorm2d(32)\n",
        "        self.bn6 = nn.BatchNorm2d(4)\n",
        "\n",
        "        self.conv_to_fc = 7 * 7 * 4\n",
        "        self.fc1 = nn.Linear(self.conv_to_fc, hid_dim_full)\n",
        "        self.fc2 = nn.Linear(hid_dim_full, int(hid_dim_full // 2))\n",
        "\n",
        "        self.features = nn.Linear(int(hid_dim_full // 2), out_dim)\n",
        "\n",
        "\n",
        "    def forward(self, x):\n",
        "\n",
        "        x = F.relu(self.bn1(self.conv1(x)))\n",
        "        x = F.relu(self.bn2(self.conv2(x)))\n",
        "        x = F.relu(self.bn3(self.conv3(x)))\n",
        "        x = F.relu(self.bn4(self.conv4(x)))\n",
        "        x = F.relu(self.bn5(self.conv5(x)))\n",
        "        x = F.relu(self.bn6(self.conv6(x)))\n",
        "\n",
        "        x = x.view(-1, self.conv_to_fc)\n",
        "        x = F.relu(self.fc1(x))\n",
        "        x = F.relu(self.fc2(x))\n",
        "\n",
        "        features = self.features(x)\n",
        "\n",
        "        return features"
      ],
      "metadata": {
        "id": "1Taky2963whY"
      },
      "execution_count": null,
      "outputs": []
    },
    {
      "cell_type": "code",
      "source": [
        "class BYOL(nn.Module):\n",
        "    def __init__(self, latent_dim=128, tau=0.99):\n",
        "        super().__init__()\n",
        "        self.teacher = Net()\n",
        "        self.student = copy.deepcopy(self.teacher)\n",
        "        self.tau = tau\n",
        "\n",
        "        self.transform = transforms.Compose([\n",
        "              transforms.RandomResizedCrop(28),\n",
        "              transforms.RandomHorizontalFlip(),\n",
        "              transforms.GaussianBlur(9),\n",
        "              transforms.Normalize(0.5, 0.5)])\n",
        "                \n",
        "        self.predictor = nn.Sequential(\n",
        "            nn.Linear(latent_dim, 128),\n",
        "            nn.BatchNorm1d(128),\n",
        "            nn.ReLU(), \n",
        "            nn.Linear(128, 128),\n",
        "            nn.BatchNorm1d(128),\n",
        "            nn.ReLU(), \n",
        "            nn.Linear(128, latent_dim)\n",
        "        )\n",
        "        \n",
        "        self.teacher.requires_grad_(False)\n",
        "\n",
        "\n",
        "    def update(self):\n",
        "        for par_1, par_2 in zip(self.student.parameters(), self.teacher.parameters()):\n",
        "            par_2.data = (self.tau * par_2.data + (1 - self.tau) * par_1.data)     \n",
        "\n",
        "        \n",
        "    def get_loss(self, x):\n",
        "        transform_1 = self.transform(x)\n",
        "        transform_2 = self.transform(x)\n",
        "\n",
        "        norm_11 = torch.norm(self.predictor(self.student(transform_1)), dim=1)\n",
        "        norm_12 = torch.norm(self.teacher(transform_2), dim=1)\n",
        "        loss_1 = F.mse_loss(norm_11, norm_12)\n",
        "\n",
        "        norm_21 = torch.norm(self.predictor(self.student(transform_2)), dim=1)\n",
        "        norm_22 = torch.norm(self.teacher(transform_1), dim=1)\n",
        "        loss_2 = F.mse_loss(norm_21, norm_22)\n",
        "        \n",
        "        return loss_1 + loss_2\n",
        "\n",
        "    \n",
        "    def fit(self, loader, epochs=20, lr=1e-4):\n",
        "        model_params = list(self.teacher.parameters()) + list(self.student.parameters())\n",
        "        optim = Adam(model_params, lr=lr)\n",
        "        \n",
        "        losses = []\n",
        "        for epoch in tqdm(range(epochs)):\n",
        "            for x, _ in loader:\n",
        "                x = x.to(device)\n",
        "                \n",
        "                loss = self.get_loss(x)\n",
        "                optim.zero_grad()\n",
        "                loss.backward()\n",
        "                optim.step()\n",
        "                \n",
        "                self.update()\n",
        "                losses.append(loss.item())\n",
        "                \n",
        "        return losses\n",
        "    \n",
        "    \n",
        "    @torch.no_grad()\n",
        "    def encode(self, x):\n",
        "        x = transforms.Resize(28)(x)\n",
        "        x = x.to(device)\n",
        "        self.student.eval()\n",
        "        return self.student(x).detach()"
      ],
      "metadata": {
        "id": "94beuTYg3yLY"
      },
      "execution_count": null,
      "outputs": []
    },
    {
      "cell_type": "code",
      "source": [
        "def q1(train_data):\n",
        "    \"\"\"\n",
        "    train_data: An (n_train, 1, 28, 28) torchvision dataset of MNIST images with values from -1 to 1\n",
        "\n",
        "    Returns\n",
        "    - a (# of training iterations, ) numpy array  losses on each iteration\n",
        "    - a function that transforms batch of images into their latent representation\n",
        "    \"\"\"\n",
        "\n",
        "    loader = DataLoader(train_data, batch_size=128, shuffle=True)\n",
        "    model = BYOL().to(device)\n",
        "    losses = model.fit(loader)\n",
        "    \n",
        "    return losses, model.encode"
      ],
      "metadata": {
        "id": "Og9Fv7sV6nrO"
      },
      "execution_count": null,
      "outputs": []
    },
    {
      "cell_type": "code",
      "source": [
        "q1_results(q1, True)"
      ],
      "metadata": {
        "colab": {
          "base_uri": "https://localhost:8080/",
          "height": 329
        },
        "id": "kXkDMLeRy5D1",
        "outputId": "7a48eb93-9431-4665-f41c-148be1d79fbf"
      },
      "execution_count": null,
      "outputs": [
        {
          "output_type": "stream",
          "name": "stderr",
          "text": [
            "100%|██████████| 20/20 [12:27<00:00, 37.39s/it]\n"
          ]
        },
        {
          "output_type": "stream",
          "name": "stdout",
          "text": [
            "mean classification accuracy=0.4905\n"
          ]
        },
        {
          "output_type": "display_data",
          "data": {
            "image/png": "[encoded data removed]",
            "text/plain": [
              "<Figure size 432x288 with 1 Axes>"
            ]
          },
          "metadata": {
            "needs_background": "light"
          }
        }
      ]
    },
    {
      "cell_type": "code",
      "source": [
        "# change flag to False if you want only to test your losses w/o accuracy (it takes around 4-5 minutes)\n",
        "q1_results(q1, True)"
      ],
      "metadata": {
        "colab": {
          "base_uri": "https://localhost:8080/",
          "height": 312
        },
        "id": "3Ib0ne2mX80s",
        "outputId": "1acb2100-8bda-40d2-faad-852fce3f3faa"
      },
      "execution_count": null,
      "outputs": [
        {
          "output_type": "stream",
          "name": "stdout",
          "text": [
            "mean classification accuracy=0.6393\n"
          ]
        },
        {
          "output_type": "display_data",
          "data": {
            "image/png": "[encoded data removed]",
            "text/plain": [
              "<Figure size 432x288 with 1 Axes>"
            ]
          },
          "metadata": {
            "needs_background": "light"
          }
        }
      ]
    },
    {
      "cell_type": "code",
      "source": [
        ""
      ],
      "metadata": {
        "id": "hyjVgSxqX6qC"
      },
      "execution_count": null,
      "outputs": []
    },
    {
      "cell_type": "markdown",
      "source": [
        "# Question 2. Barlow Twins\n",
        "\n",
        "Here we will implement [barlow twins](https://arxiv.org/abs/2103.03230).\n",
        "\n",
        "* You can use same architechure as in practice. \n",
        "\n",
        "* Dataset comes untransformed, so you need to apply transformations during training by yourself. Use same augmentations as in SimCLR\n",
        "\n",
        "**Hyperparameters**\n",
        "\n",
        "* λ = 0.01 \n",
        "* lr = 5e-4\n",
        "* num_epochs = 20\n",
        "* latent dim = 128\n",
        "\n",
        "\n",
        "\n",
        "**You will provide the following deliverables**\n",
        "\n",
        "\n",
        "1. Over the course of training, record loss ber batch.\n",
        "2. A function that encodes a batch of images with your trained model. The function recieves a batch torch tensors on cpu and should return transformed 2d tensor (batch size x laten dim). It will be used to test representation on classification task."
      ],
      "metadata": {
        "id": "hlbaIthyMGab"
      }
    },
    {
      "cell_type": "code",
      "source": [
        "class Net(nn.Module):\n",
        "    def __init__(self, input_dim=1, out_dim=128, hid_dim_full=128):\n",
        "        super(Net, self).__init__()\n",
        "\n",
        "        self.conv1 = nn.Conv2d(input_dim, 16, 5, padding=2)\n",
        "        self.conv2 = nn.Conv2d(16, 16, 3, padding=1, stride=2)\n",
        "        self.conv3 = nn.Conv2d(16, 32, 5, padding=2)\n",
        "        self.conv4 = nn.Conv2d(32, 32, 3, padding=1, stride=2)\n",
        "        self.conv5 = nn.Conv2d(32, 32, 1)\n",
        "        self.conv6 = nn.Conv2d(32, 4, 1)\n",
        "        self.bn1 = nn.BatchNorm2d(16)\n",
        "        self.bn2 = nn.BatchNorm2d(16)\n",
        "        self.bn3 = nn.BatchNorm2d(32)\n",
        "        self.bn4 = nn.BatchNorm2d(32)\n",
        "        self.bn5 = nn.BatchNorm2d(32)\n",
        "        self.bn6 = nn.BatchNorm2d(4)\n",
        "\n",
        "        self.conv_to_fc = 7 * 7 * 4\n",
        "        self.fc1 = nn.Linear(self.conv_to_fc, hid_dim_full)\n",
        "        self.fc2 = nn.Linear(hid_dim_full, int(hid_dim_full // 2))\n",
        "\n",
        "        self.features = nn.Linear(int(hid_dim_full // 2), out_dim)\n",
        "\n",
        "\n",
        "    def forward(self, x):\n",
        "\n",
        "        x = F.relu(self.bn1(self.conv1(x)))\n",
        "        x = F.relu(self.bn2(self.conv2(x)))\n",
        "        x = F.relu(self.bn3(self.conv3(x)))\n",
        "        x = F.relu(self.bn4(self.conv4(x)))\n",
        "        x = F.relu(self.bn5(self.conv5(x)))\n",
        "        x = F.relu(self.bn6(self.conv6(x)))\n",
        "\n",
        "        x = torch.flatten(x, start_dim=1)\n",
        "        x = F.relu(self.fc1(x))\n",
        "        x = F.relu(self.fc2(x))\n",
        "\n",
        "        features = self.features(x)\n",
        "\n",
        "        return features"
      ],
      "metadata": {
        "id": "YtELV16fhY0-"
      },
      "execution_count": null,
      "outputs": []
    },
    {
      "cell_type": "code",
      "source": [
        "class BTWINS(nn.Module):\n",
        "    def __init__(self, input_dim=3, latent_dim=128, lambd=1e-2):\n",
        "        super().__init__()\n",
        "\n",
        "        self.lambd = lambd\n",
        "        self.latent_dim = latent_dim\n",
        "        self.model = Net(input_dim=3)\n",
        "\n",
        "        self.transform = transforms.Compose([\n",
        "              transforms.RandomResizedCrop(28),\n",
        "              transforms.RandomHorizontalFlip(),\n",
        "              transforms.GaussianBlur(9),\n",
        "              transforms.RandomApply([transforms.ColorJitter(0.5, 0.5, 0.5, 0.1)], p=0.8),\n",
        "              transforms.RandomGrayscale(0.2),              \n",
        "              transforms.Normalize(0.5, 0.5)])\n",
        "        \n",
        "    def get_loss(self, x):\n",
        "        transform_1 = self.transform(x)\n",
        "        z_1 = self.model(transform_1)\n",
        "        norm_1 = (z_1 - z_1.mean(0)) / z_1.std(0)\n",
        "        \n",
        "        transform_2 = self.transform(x)\n",
        "        z_2 = self.model(transform_2)\n",
        "        norm_2 = (z_2 - z_2.mean(0)) / z_2.std(0)\n",
        "\n",
        "        cov_matrix = (norm_1.T @ norm_2) / (torch.sqrt((norm_1 ** 2).sum(0)) * torch.sqrt((norm_2 ** 2).sum(0)).reshape(-1, 1))\n",
        "        n = cov_matrix.shape[0]\n",
        "        loss_1 = ((1 - cov_matrix.diag()) ** 2).sum()\n",
        "\n",
        "        mask = torch.eye(n, dtype=bool, device=device)\n",
        "        temp = cov_matrix.masked_select(~mask)\n",
        "        loss_2 = (temp.reshape(n, n - 1) ** 2).sum()\n",
        "        \n",
        "        return loss_1 + self.lambd * loss_2    \n",
        "           \n",
        "\n",
        "    def fit(self, loader, epochs=20, lr=5e-4):\n",
        "        optim = Adam(self.parameters(), lr=lr)\n",
        "        \n",
        "        losses = []\n",
        "        for epoch in tqdm(range(epochs)):\n",
        "            for x, _ in loader:\n",
        "                x = x.to(device)\n",
        "                \n",
        "                loss = self.get_loss(x)\n",
        "                optim.zero_grad()\n",
        "                loss.backward()\n",
        "                optim.step()\n",
        "                \n",
        "                losses.append(loss.item())\n",
        "                \n",
        "        return losses\n",
        " \n",
        "    @torch.no_grad()\n",
        "    def encode(self, x):\n",
        "        x = transforms.Resize(28)(x)\n",
        "        x = x.to(device)\n",
        "        self.model.eval()\n",
        "        return self.model(x).detach()"
      ],
      "metadata": {
        "id": "53gO5LJh5ZwU"
      },
      "execution_count": null,
      "outputs": []
    },
    {
      "cell_type": "code",
      "source": [
        "def q2(train_data, test_data):\n",
        "    \"\"\"\n",
        "    train_data: An (n_train, 1, 32, 32) torchvision dataset of CIFAR10 images with values from -1 to 1\n",
        "\n",
        "    Returns\n",
        "    - a (# of training iterations, ) numpy array  losses on each iteration\n",
        "    - a function that transforms batch of images into their latent representation\n",
        "    \"\"\"\n",
        "    loader = DataLoader(train_data, batch_size=256, shuffle=True)\n",
        "    model = BTWINS().to(device)\n",
        "    losses = model.fit(loader)\n",
        "    \n",
        "    return losses, model.encode    "
      ],
      "metadata": {
        "id": "pd6RrZfP75HR"
      },
      "execution_count": null,
      "outputs": []
    },
    {
      "cell_type": "code",
      "source": [
        "# change flag to False if you want only to test your losses w/o accuracy (it takes around 4-5 minutes)\n",
        "q2_results(q2, True)"
      ],
      "metadata": {
        "id": "EA1Z_s1a8_sB",
        "colab": {
          "base_uri": "https://localhost:8080/",
          "height": 363
        },
        "outputId": "5540d5b2-7b46-435f-f23f-7b16fe18c52b"
      },
      "execution_count": null,
      "outputs": [
        {
          "output_type": "stream",
          "name": "stdout",
          "text": [
            "Files already downloaded and verified\n",
            "Files already downloaded and verified\n"
          ]
        },
        {
          "output_type": "stream",
          "name": "stderr",
          "text": [
            "100%|██████████| 20/20 [05:51<00:00, 17.57s/it]\n"
          ]
        },
        {
          "output_type": "stream",
          "name": "stdout",
          "text": [
            "mean classification accuracy=0.3805\n"
          ]
        },
        {
          "output_type": "display_data",
          "data": {
            "image/png": "[encoded data removed]",
            "text/plain": [
              "<Figure size 432x288 with 1 Axes>"
            ]
          },
          "metadata": {
            "needs_background": "light"
          }
        }
      ]
    },
    {
      "cell_type": "markdown",
      "source": [
        "# Bonus. SwAV\n",
        "\n",
        "Here we will implement [SwAV](https://arxiv.org/abs/2006.09882v5)\n",
        "\n",
        "**You will provide the following deliverables**\n",
        "\n",
        "\n",
        "1. Over the course of training, record loss ber batch.\n",
        "2. A function that encodes a batch of images with your trained model. The function recieves a batch torch tensors on cpu and should return transformed 2d tensor (batch size x laten dim). It will be used to test representation on classification task."
      ],
      "metadata": {
        "id": "D8UN9nr9aYGx"
      }
    },
    {
      "cell_type": "code",
      "source": [
        "def b(train_data):\n",
        "    \"\"\"\n",
        "    train_data: An (n_train, 1, 32, 32) torchvision dataset of CIFAR10 images with values from -1 to 1\n",
        "\n",
        "    Returns\n",
        "    - a (# of training iterations, ) numpy array  losses on each iteration\n",
        "    - a function that transforms batch of images into their latent representation\n",
        "    \"\"\""
      ],
      "metadata": {
        "id": "1Yin_8Ebaa8P"
      },
      "execution_count": null,
      "outputs": []
    },
    {
      "cell_type": "code",
      "source": [
        "q2_results(b, True)"
      ],
      "metadata": {
        "id": "S0jgIgLN8tzd"
      },
      "execution_count": null,
      "outputs": []
    }
  ]
}